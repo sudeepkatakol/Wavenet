{
 "cells": [
  {
   "cell_type": "code",
   "execution_count": 1,
   "metadata": {},
   "outputs": [
    {
     "name": "stderr",
     "output_type": "stream",
     "text": [
      "/home/sudeep/.conda/envs/jazz_music/lib/python2.7/site-packages/h5py/__init__.py:36: FutureWarning: Conversion of the second argument of issubdtype from `float` to `np.floating` is deprecated. In future, it will be treated as `np.float64 == np.dtype(float).type`.\n",
      "  from ._conv import register_converters as _register_converters\n",
      "Using TensorFlow backend.\n"
     ]
    }
   ],
   "source": [
    "from keras.models import load_model, Model\n",
    "from keras.layers import Input, Dense, Conv1D, Activation, Add, Multiply\n",
    "from keras.initializers import glorot_uniform\n",
    "from keras.utils import to_categorical\n",
    "from keras.optimizers import Adam\n",
    "from keras import backend as K"
   ]
  },
  {
   "cell_type": "code",
   "execution_count": 3,
   "metadata": {
    "collapsed": true
   },
   "outputs": [],
   "source": [
    "# Preprocessing\n",
    "'''\n",
    "def mu_law_encode(audio, quantization_channels):\n",
    "        with K.name_scope('encode'):    \n",
    "        mu = 1.00*(quantization_channels - 1)\n",
    "            # Perform mu-law companding transformation (ITU-T, 1988).\n",
    "            # Minimum operation is here to deal with rare large amplitudes caused\n",
    "            # by resampling.\n",
    "        safe_audio_abs = K.minimum(K.abs(audio), 1.0)\n",
    "        magnitude = K.log(1 + mu * safe_audio_abs) / K.log(1 + mu)\n",
    "        signal = K.sign(audio) * magnitude\n",
    "        # Quantize signal to the specified number of levels.\n",
    "        return K.round((signal + 1) / 2 * mu + 0.5)\n",
    "'''\n",
    "\"\"\"\n",
    "def mu_law_decode(output, quantization_channels):\n",
    "    '''Recovers waveform from quantized values.'''\n",
    "    with K.name_scope('decode'):\n",
    "        mu = quantization_channels - 1\n",
    "        # Map values back to [-1, 1].\n",
    "        signal = 2 * (tf.to_float(output) / mu) - 1\n",
    "        # Perform inverse of mu-law transformation.\n",
    "        magnitude = (1 / mu) * ((1 + mu)**abs(signal) - 1)\n",
    "    return tf.sign(signal) * magnitude\n",
    "\"\"\"\n",
    "\n",
    "def encode(audio, quantization_channels):\n",
    "    mu = 1.00*(quantization_channels - 1)\n",
    "    safe_audio_abs = np.minimum(np.absolute(audio), 1.0)\n",
    "    magnitude = np.log(1 + mu * safe_audio_abs) / np.log(1 + mu)\n",
    "    signal = np.sign(audio) * magnitude\n",
    "    # Quantize signal to the specified number of levels.\n",
    "    return np.floor((signal + 1) / 2 * mu + 0.5)\n",
    "\n",
    "def normalize(sample):\n",
    "    rel1 = sample - np.min(sample, axis=-1)\n",
    "    rel2 = np.max(sample, axis=-1) - np.min(sample, axis =-1)\n",
    "    return 2*rel1/(rel2+1e-7) - 1    \n",
    "    \n",
    "def preprocessing(raw_audio, quantization_channels=256):\n",
    "    audio = normalize(raw_audio)\n",
    "    audio = encode(audio, quantization_channels)\n",
    "    return audio"
   ]
  },
  {
   "cell_type": "code",
   "execution_count": 1,
   "metadata": {},
   "outputs": [
    {
     "data": {
      "text/plain": [
       "'\\nimport os\\nimport numpy as np\\nfrom scipy.io import wavfile\\ndef load_dataset():\\n    X = []\\n    path = \"Piano_10_16kHz/\"\\n    for x in os.listdir(path):\\n        _, w = wavfile.read(path + x)\\n        if w.shape[0] < 160124:\\n            w = np.concatenate([w, np.zeros((160124 - w.shape[0], 2))])\\n        assert(w.shape[0] == 160124)\\n        audio_left = preprocessing(w.T[0].astype(np.float32))\\n        audio_right = preprocessing(w.T[1].astype(np.float32))\\n        X.append(audio_left)\\n        X.append(audio_right)\\n    return np.array(X)\\nX = load_dataset()\\nX.shape\\n'"
      ]
     },
     "execution_count": 1,
     "metadata": {},
     "output_type": "execute_result"
    }
   ],
   "source": [
    "'''\n",
    "import os\n",
    "import numpy as np\n",
    "from scipy.io import wavfile\n",
    "def load_dataset():\n",
    "    X = []\n",
    "    path = \"Piano_10_16kHz/\"\n",
    "    for x in os.listdir(path):\n",
    "        _, w = wavfile.read(path + x)\n",
    "        if w.shape[0] < 160124:\n",
    "            w = np.concatenate([w, np.zeros((160124 - w.shape[0], 2))])\n",
    "        assert(w.shape[0] == 160124)\n",
    "        audio_left = preprocessing(w.T[0].astype(np.float32))\n",
    "        audio_right = preprocessing(w.T[1].astype(np.float32))\n",
    "        X.append(audio_left)\n",
    "        X.append(audio_right)\n",
    "    return np.array(X)\n",
    "X = load_dataset()\n",
    "X.shape\n",
    "'''"
   ]
  },
  {
   "cell_type": "code",
   "execution_count": 2,
   "metadata": {},
   "outputs": [
    {
     "name": "stdout",
     "output_type": "stream",
     "text": [
      "(408, 160124)\n"
     ]
    },
    {
     "data": {
      "text/plain": [
       "array([44., 44., 45., ..., 46., 49., 56.], dtype=float32)"
      ]
     },
     "execution_count": 2,
     "metadata": {},
     "output_type": "execute_result"
    }
   ],
   "source": [
    "#np.save('Piano_half_hour_16kHz_10s_samples', X)\n",
    "import numpy as np\n",
    "X = np.load('Piano_half_hour_16kHz_10s_samples.npy')\n",
    "print(X.shape)\n",
    "X[0]"
   ]
  },
  {
   "cell_type": "code",
   "execution_count": 3,
   "metadata": {},
   "outputs": [
    {
     "data": {
      "text/plain": [
       "array([ 40.,  32.,  30., ..., 102.,  66.,  52.], dtype=float32)"
      ]
     },
     "execution_count": 3,
     "metadata": {},
     "output_type": "execute_result"
    }
   ],
   "source": [
    "np.random.shuffle(X)\n",
    "X[0]"
   ]
  },
  {
   "cell_type": "code",
   "execution_count": null,
   "metadata": {
    "collapsed": true
   },
   "outputs": [],
   "source": []
  },
  {
   "cell_type": "code",
   "execution_count": 18,
   "metadata": {},
   "outputs": [
    {
     "name": "stdout",
     "output_type": "stream",
     "text": [
      "((370, 160124), (38, 160124))\n",
      "(370, 160123)\n"
     ]
    }
   ],
   "source": [
    "X_train = X[:370]\n",
    "X_validation = X[370:]\n",
    "print(X_train.shape, X_validation.shape)\n",
    "print(Y_train.shape)"
   ]
  },
  {
   "cell_type": "code",
   "execution_count": 4,
   "metadata": {
    "collapsed": true
   },
   "outputs": [],
   "source": [
    "dilation_channels = 64\n",
    "causal_channels = 32\n",
    "dilation_kernel = 2\n",
    "def residual_block(X, dilation_rate):\n",
    "    F = Conv1D(dilation_channels, dilation_kernel, padding='causal', dilation_rate=dilation_rate)(X)\n",
    "    G = Conv1D(dilation_channels, dilation_kernel, padding='causal', dilation_rate=dilation_rate)(X)\n",
    "    F = Activation('tanh')(F)\n",
    "    G = Activation('sigmoid')(G)\n",
    "    Y = Multiply()([F, G])\n",
    "    return Y"
   ]
  },
  {
   "cell_type": "code",
   "execution_count": 11,
   "metadata": {
    "collapsed": true
   },
   "outputs": [],
   "source": [
    "causal_kernel = 2\n",
    "causal_channels = 32\n",
    "dilation_rate = 2\n",
    "quantization_channels = 256\n",
    "def model(input_shape):\n",
    "    X_input = Input(input_shape)\n",
    "    X = Conv1D(causal_channels, causal_kernel, padding='causal', dilation_rate=1)(X_input)\n",
    "    Y = residual_block(X, 1)\n",
    "    S0 = Conv1D(dilation_channels, 1, padding=\"same\")(Y)\n",
    "    Y = Conv1D(causal_channels, 1, padding=\"same\")(Y)\n",
    "    X = Add()([X, Y])\n",
    "    Y = residual_block(X, 2)\n",
    "    S1 = Conv1D(dilation_channels, 1, padding=\"same\")(Y)\n",
    "    Y = Conv1D(causal_channels, 1, padding=\"same\")(Y)\n",
    "    X = Add()([X, Y])\n",
    "    Y = residual_block(X, 4)\n",
    "    S2 = Conv1D(dilation_channels, 1, padding=\"same\")(Y)\n",
    "    Y = Conv1D(causal_channels, 1, padding=\"same\")(Y)\n",
    "    X = Add()([X, Y])\n",
    "    Y = residual_block(X, 8)\n",
    "    S3 = Conv1D(dilation_channels, 1, padding=\"same\")(Y)\n",
    "    Y = Conv1D(causal_channels, 1, padding=\"same\")(Y)\n",
    "    X = Add()([X, Y])\n",
    "    Y = residual_block(X, 16)\n",
    "    S4 = Conv1D(dilation_channels, 1, padding=\"same\")(Y)\n",
    "    Y = Conv1D(causal_channels, 1, padding=\"same\")(Y)\n",
    "    X = Add()([X, Y])\n",
    "    Y = residual_block(X, 32)\n",
    "    S5 = Conv1D(dilation_channels, 1, padding=\"same\")(Y)\n",
    "    Y = Conv1D(causal_channels, 1, padding=\"same\")(Y)\n",
    "    X = Add()([X, Y])\n",
    "    Y = residual_block(X, 64)\n",
    "    S6 = Conv1D(dilation_channels, 1, padding=\"same\")(Y)\n",
    "    Y = Conv1D(causal_channels, 1, padding=\"same\")(Y)\n",
    "    X = Add()([X, Y])\n",
    "    Y = residual_block(X, 128)\n",
    "    S7 = Conv1D(dilation_channels, 1, padding=\"same\")(Y)\n",
    "    Y = Conv1D(causal_channels, 1, padding=\"same\")(Y)\n",
    "    X = Add()([X, Y])\n",
    "    Y = residual_block(X, 256)\n",
    "    S8 = Conv1D(dilation_channels, 1, padding=\"same\")(Y)\n",
    "    Y = Conv1D(causal_channels, 1, padding=\"same\")(Y)\n",
    "    X = Add()([X, Y])\n",
    "    Y = residual_block(X, 512)\n",
    "    S9 = Conv1D(dilation_channels, 1, padding=\"same\")(Y)\n",
    "    S = Add()([S0, S1, S2, S3, S4, S5, S6, S7, S8, S9])\n",
    "    X = Activation('relu')(S)\n",
    "    X = Conv1D(128, 1, padding=\"same\")(X)\n",
    "    X = Activation('relu')(X)\n",
    "    X = Conv1D(256, 1, padding=\"same\")(X)\n",
    "    X = Activation('softmax')(X)\n",
    "    return Model(inputs = X_input, outputs = X)"
   ]
  },
  {
   "cell_type": "code",
   "execution_count": 12,
   "metadata": {},
   "outputs": [
    {
     "name": "stdout",
     "output_type": "stream",
     "text": [
      "(<tf.Tensor 'input_3:0' shape=(?, 160124, 256) dtype=float32>, <tf.Tensor 'activation_23/truediv:0' shape=(?, 160124, 256) dtype=float32>)\n"
     ]
    }
   ],
   "source": [
    "net = model((160124, 256))\n",
    "print(net.input, net.output)"
   ]
  },
  {
   "cell_type": "code",
   "execution_count": 13,
   "metadata": {
    "scrolled": true
   },
   "outputs": [
    {
     "name": "stdout",
     "output_type": "stream",
     "text": [
      "__________________________________________________________________________________________________\n",
      "Layer (type)                    Output Shape         Param #     Connected to                     \n",
      "==================================================================================================\n",
      "input_3 (InputLayer)            (None, 160124, 256)  0                                            \n",
      "__________________________________________________________________________________________________\n",
      "conv1d_3 (Conv1D)               (None, 160124, 32)   16416       input_3[0][0]                    \n",
      "__________________________________________________________________________________________________\n",
      "conv1d_4 (Conv1D)               (None, 160124, 64)   4160        conv1d_3[0][0]                   \n",
      "__________________________________________________________________________________________________\n",
      "conv1d_5 (Conv1D)               (None, 160124, 64)   4160        conv1d_3[0][0]                   \n",
      "__________________________________________________________________________________________________\n",
      "activation_1 (Activation)       (None, 160124, 64)   0           conv1d_4[0][0]                   \n",
      "__________________________________________________________________________________________________\n",
      "activation_2 (Activation)       (None, 160124, 64)   0           conv1d_5[0][0]                   \n",
      "__________________________________________________________________________________________________\n",
      "multiply_1 (Multiply)           (None, 160124, 64)   0           activation_1[0][0]               \n",
      "                                                                 activation_2[0][0]               \n",
      "__________________________________________________________________________________________________\n",
      "conv1d_7 (Conv1D)               (None, 160124, 32)   2080        multiply_1[0][0]                 \n",
      "__________________________________________________________________________________________________\n",
      "add_1 (Add)                     (None, 160124, 32)   0           conv1d_3[0][0]                   \n",
      "                                                                 conv1d_7[0][0]                   \n",
      "__________________________________________________________________________________________________\n",
      "conv1d_8 (Conv1D)               (None, 160124, 64)   4160        add_1[0][0]                      \n",
      "__________________________________________________________________________________________________\n",
      "conv1d_9 (Conv1D)               (None, 160124, 64)   4160        add_1[0][0]                      \n",
      "__________________________________________________________________________________________________\n",
      "activation_3 (Activation)       (None, 160124, 64)   0           conv1d_8[0][0]                   \n",
      "__________________________________________________________________________________________________\n",
      "activation_4 (Activation)       (None, 160124, 64)   0           conv1d_9[0][0]                   \n",
      "__________________________________________________________________________________________________\n",
      "multiply_2 (Multiply)           (None, 160124, 64)   0           activation_3[0][0]               \n",
      "                                                                 activation_4[0][0]               \n",
      "__________________________________________________________________________________________________\n",
      "conv1d_11 (Conv1D)              (None, 160124, 32)   2080        multiply_2[0][0]                 \n",
      "__________________________________________________________________________________________________\n",
      "add_2 (Add)                     (None, 160124, 32)   0           add_1[0][0]                      \n",
      "                                                                 conv1d_11[0][0]                  \n",
      "__________________________________________________________________________________________________\n",
      "conv1d_12 (Conv1D)              (None, 160124, 64)   4160        add_2[0][0]                      \n",
      "__________________________________________________________________________________________________\n",
      "conv1d_13 (Conv1D)              (None, 160124, 64)   4160        add_2[0][0]                      \n",
      "__________________________________________________________________________________________________\n",
      "activation_5 (Activation)       (None, 160124, 64)   0           conv1d_12[0][0]                  \n",
      "__________________________________________________________________________________________________\n",
      "activation_6 (Activation)       (None, 160124, 64)   0           conv1d_13[0][0]                  \n",
      "__________________________________________________________________________________________________\n",
      "multiply_3 (Multiply)           (None, 160124, 64)   0           activation_5[0][0]               \n",
      "                                                                 activation_6[0][0]               \n",
      "__________________________________________________________________________________________________\n",
      "conv1d_15 (Conv1D)              (None, 160124, 32)   2080        multiply_3[0][0]                 \n",
      "__________________________________________________________________________________________________\n",
      "add_3 (Add)                     (None, 160124, 32)   0           add_2[0][0]                      \n",
      "                                                                 conv1d_15[0][0]                  \n",
      "__________________________________________________________________________________________________\n",
      "conv1d_16 (Conv1D)              (None, 160124, 64)   4160        add_3[0][0]                      \n",
      "__________________________________________________________________________________________________\n",
      "conv1d_17 (Conv1D)              (None, 160124, 64)   4160        add_3[0][0]                      \n",
      "__________________________________________________________________________________________________\n",
      "activation_7 (Activation)       (None, 160124, 64)   0           conv1d_16[0][0]                  \n",
      "__________________________________________________________________________________________________\n",
      "activation_8 (Activation)       (None, 160124, 64)   0           conv1d_17[0][0]                  \n",
      "__________________________________________________________________________________________________\n",
      "multiply_4 (Multiply)           (None, 160124, 64)   0           activation_7[0][0]               \n",
      "                                                                 activation_8[0][0]               \n",
      "__________________________________________________________________________________________________\n",
      "conv1d_19 (Conv1D)              (None, 160124, 32)   2080        multiply_4[0][0]                 \n",
      "__________________________________________________________________________________________________\n",
      "add_4 (Add)                     (None, 160124, 32)   0           add_3[0][0]                      \n",
      "                                                                 conv1d_19[0][0]                  \n",
      "__________________________________________________________________________________________________\n",
      "conv1d_20 (Conv1D)              (None, 160124, 64)   4160        add_4[0][0]                      \n",
      "__________________________________________________________________________________________________\n",
      "conv1d_21 (Conv1D)              (None, 160124, 64)   4160        add_4[0][0]                      \n",
      "__________________________________________________________________________________________________\n",
      "activation_9 (Activation)       (None, 160124, 64)   0           conv1d_20[0][0]                  \n",
      "__________________________________________________________________________________________________\n",
      "activation_10 (Activation)      (None, 160124, 64)   0           conv1d_21[0][0]                  \n",
      "__________________________________________________________________________________________________\n",
      "multiply_5 (Multiply)           (None, 160124, 64)   0           activation_9[0][0]               \n",
      "                                                                 activation_10[0][0]              \n",
      "__________________________________________________________________________________________________\n",
      "conv1d_23 (Conv1D)              (None, 160124, 32)   2080        multiply_5[0][0]                 \n",
      "__________________________________________________________________________________________________\n",
      "add_5 (Add)                     (None, 160124, 32)   0           add_4[0][0]                      \n",
      "                                                                 conv1d_23[0][0]                  \n",
      "__________________________________________________________________________________________________\n",
      "conv1d_24 (Conv1D)              (None, 160124, 64)   4160        add_5[0][0]                      \n",
      "__________________________________________________________________________________________________\n",
      "conv1d_25 (Conv1D)              (None, 160124, 64)   4160        add_5[0][0]                      \n",
      "__________________________________________________________________________________________________\n",
      "activation_11 (Activation)      (None, 160124, 64)   0           conv1d_24[0][0]                  \n",
      "__________________________________________________________________________________________________\n",
      "activation_12 (Activation)      (None, 160124, 64)   0           conv1d_25[0][0]                  \n",
      "__________________________________________________________________________________________________\n",
      "multiply_6 (Multiply)           (None, 160124, 64)   0           activation_11[0][0]              \n",
      "                                                                 activation_12[0][0]              \n",
      "__________________________________________________________________________________________________\n",
      "conv1d_27 (Conv1D)              (None, 160124, 32)   2080        multiply_6[0][0]                 \n",
      "__________________________________________________________________________________________________\n",
      "add_6 (Add)                     (None, 160124, 32)   0           add_5[0][0]                      \n",
      "                                                                 conv1d_27[0][0]                  \n",
      "__________________________________________________________________________________________________\n",
      "conv1d_28 (Conv1D)              (None, 160124, 64)   4160        add_6[0][0]                      \n",
      "__________________________________________________________________________________________________\n",
      "conv1d_29 (Conv1D)              (None, 160124, 64)   4160        add_6[0][0]                      \n",
      "__________________________________________________________________________________________________\n",
      "activation_13 (Activation)      (None, 160124, 64)   0           conv1d_28[0][0]                  \n",
      "__________________________________________________________________________________________________\n",
      "activation_14 (Activation)      (None, 160124, 64)   0           conv1d_29[0][0]                  \n",
      "__________________________________________________________________________________________________\n",
      "multiply_7 (Multiply)           (None, 160124, 64)   0           activation_13[0][0]              \n",
      "                                                                 activation_14[0][0]              \n",
      "__________________________________________________________________________________________________\n",
      "conv1d_31 (Conv1D)              (None, 160124, 32)   2080        multiply_7[0][0]                 \n",
      "__________________________________________________________________________________________________\n",
      "add_7 (Add)                     (None, 160124, 32)   0           add_6[0][0]                      \n",
      "                                                                 conv1d_31[0][0]                  \n",
      "__________________________________________________________________________________________________\n",
      "conv1d_32 (Conv1D)              (None, 160124, 64)   4160        add_7[0][0]                      \n",
      "__________________________________________________________________________________________________\n",
      "conv1d_33 (Conv1D)              (None, 160124, 64)   4160        add_7[0][0]                      \n",
      "__________________________________________________________________________________________________\n",
      "activation_15 (Activation)      (None, 160124, 64)   0           conv1d_32[0][0]                  \n",
      "__________________________________________________________________________________________________\n",
      "activation_16 (Activation)      (None, 160124, 64)   0           conv1d_33[0][0]                  \n",
      "__________________________________________________________________________________________________\n",
      "multiply_8 (Multiply)           (None, 160124, 64)   0           activation_15[0][0]              \n",
      "                                                                 activation_16[0][0]              \n",
      "__________________________________________________________________________________________________\n",
      "conv1d_35 (Conv1D)              (None, 160124, 32)   2080        multiply_8[0][0]                 \n",
      "__________________________________________________________________________________________________\n",
      "add_8 (Add)                     (None, 160124, 32)   0           add_7[0][0]                      \n",
      "                                                                 conv1d_35[0][0]                  \n",
      "__________________________________________________________________________________________________\n",
      "conv1d_36 (Conv1D)              (None, 160124, 64)   4160        add_8[0][0]                      \n",
      "__________________________________________________________________________________________________\n",
      "conv1d_37 (Conv1D)              (None, 160124, 64)   4160        add_8[0][0]                      \n",
      "__________________________________________________________________________________________________\n",
      "activation_17 (Activation)      (None, 160124, 64)   0           conv1d_36[0][0]                  \n",
      "__________________________________________________________________________________________________\n",
      "activation_18 (Activation)      (None, 160124, 64)   0           conv1d_37[0][0]                  \n",
      "__________________________________________________________________________________________________\n",
      "multiply_9 (Multiply)           (None, 160124, 64)   0           activation_17[0][0]              \n",
      "                                                                 activation_18[0][0]              \n",
      "__________________________________________________________________________________________________\n",
      "conv1d_39 (Conv1D)              (None, 160124, 32)   2080        multiply_9[0][0]                 \n",
      "__________________________________________________________________________________________________\n",
      "add_9 (Add)                     (None, 160124, 32)   0           add_8[0][0]                      \n",
      "                                                                 conv1d_39[0][0]                  \n",
      "__________________________________________________________________________________________________\n",
      "conv1d_40 (Conv1D)              (None, 160124, 64)   4160        add_9[0][0]                      \n",
      "__________________________________________________________________________________________________\n",
      "conv1d_41 (Conv1D)              (None, 160124, 64)   4160        add_9[0][0]                      \n",
      "__________________________________________________________________________________________________\n",
      "activation_19 (Activation)      (None, 160124, 64)   0           conv1d_40[0][0]                  \n",
      "__________________________________________________________________________________________________\n",
      "activation_20 (Activation)      (None, 160124, 64)   0           conv1d_41[0][0]                  \n",
      "__________________________________________________________________________________________________\n",
      "multiply_10 (Multiply)          (None, 160124, 64)   0           activation_19[0][0]              \n",
      "                                                                 activation_20[0][0]              \n",
      "__________________________________________________________________________________________________\n",
      "conv1d_6 (Conv1D)               (None, 160124, 64)   4160        multiply_1[0][0]                 \n",
      "__________________________________________________________________________________________________\n",
      "conv1d_10 (Conv1D)              (None, 160124, 64)   4160        multiply_2[0][0]                 \n",
      "__________________________________________________________________________________________________\n",
      "conv1d_14 (Conv1D)              (None, 160124, 64)   4160        multiply_3[0][0]                 \n",
      "__________________________________________________________________________________________________\n",
      "conv1d_18 (Conv1D)              (None, 160124, 64)   4160        multiply_4[0][0]                 \n",
      "__________________________________________________________________________________________________\n",
      "conv1d_22 (Conv1D)              (None, 160124, 64)   4160        multiply_5[0][0]                 \n",
      "__________________________________________________________________________________________________\n",
      "conv1d_26 (Conv1D)              (None, 160124, 64)   4160        multiply_6[0][0]                 \n",
      "__________________________________________________________________________________________________\n",
      "conv1d_30 (Conv1D)              (None, 160124, 64)   4160        multiply_7[0][0]                 \n",
      "__________________________________________________________________________________________________\n",
      "conv1d_34 (Conv1D)              (None, 160124, 64)   4160        multiply_8[0][0]                 \n",
      "__________________________________________________________________________________________________\n",
      "conv1d_38 (Conv1D)              (None, 160124, 64)   4160        multiply_9[0][0]                 \n",
      "__________________________________________________________________________________________________\n",
      "conv1d_42 (Conv1D)              (None, 160124, 64)   4160        multiply_10[0][0]                \n",
      "__________________________________________________________________________________________________\n",
      "add_10 (Add)                    (None, 160124, 64)   0           conv1d_6[0][0]                   \n",
      "                                                                 conv1d_10[0][0]                  \n",
      "                                                                 conv1d_14[0][0]                  \n",
      "                                                                 conv1d_18[0][0]                  \n",
      "                                                                 conv1d_22[0][0]                  \n",
      "                                                                 conv1d_26[0][0]                  \n",
      "                                                                 conv1d_30[0][0]                  \n",
      "                                                                 conv1d_34[0][0]                  \n",
      "                                                                 conv1d_38[0][0]                  \n",
      "                                                                 conv1d_42[0][0]                  \n",
      "__________________________________________________________________________________________________\n",
      "activation_21 (Activation)      (None, 160124, 64)   0           add_10[0][0]                     \n",
      "__________________________________________________________________________________________________\n",
      "conv1d_43 (Conv1D)              (None, 160124, 128)  8320        activation_21[0][0]              \n",
      "__________________________________________________________________________________________________\n",
      "activation_22 (Activation)      (None, 160124, 128)  0           conv1d_43[0][0]                  \n",
      "__________________________________________________________________________________________________\n",
      "conv1d_44 (Conv1D)              (None, 160124, 256)  33024       activation_22[0][0]              \n",
      "__________________________________________________________________________________________________\n",
      "activation_23 (Activation)      (None, 160124, 256)  0           conv1d_44[0][0]                  \n",
      "==================================================================================================\n",
      "Total params: 201,280\n",
      "Trainable params: 201,280\n",
      "Non-trainable params: 0\n",
      "__________________________________________________________________________________________________\n"
     ]
    }
   ],
   "source": [
    "net.summary()"
   ]
  },
  {
   "cell_type": "code",
   "execution_count": 49,
   "metadata": {
    "collapsed": true
   },
   "outputs": [],
   "source": [
    "net.compile(optimizer = \"adam\", loss = \"binary_crossentropy\", metrics = [\"accuracy\"])"
   ]
  },
  {
   "cell_type": "code",
   "execution_count": 30,
   "metadata": {},
   "outputs": [
    {
     "data": {
      "text/plain": [
       "array([[55., 54., 52., ..., 61., 56., 56.],\n",
       "       [24., 29., 37., ..., 33., 35., 35.]], dtype=float32)"
      ]
     },
     "execution_count": 30,
     "metadata": {},
     "output_type": "execute_result"
    }
   ],
   "source": [
    "X_ = X[:2]\n",
    "Y_ = np.concatenate([X[:2, 1:], X[:2, -1].reshape(X_.shape[0], 1)], axis = -1)\n",
    "Y_"
   ]
  },
  {
   "cell_type": "code",
   "execution_count": 39,
   "metadata": {},
   "outputs": [
    {
     "data": {
      "text/plain": [
       "(2, 160124, 256)"
      ]
     },
     "execution_count": 39,
     "metadata": {},
     "output_type": "execute_result"
    }
   ],
   "source": [
    "from numpy import argmax\n",
    "from keras.utils import to_categorical\n",
    "# define example\n",
    "\n",
    "encoded = to_categorical(X_)\n",
    "encoded.shape"
   ]
  },
  {
   "cell_type": "code",
   "execution_count": 37,
   "metadata": {},
   "outputs": [
    {
     "ename": "IndexError",
     "evalue": "arrays used as indices must be of integer (or boolean) type",
     "output_type": "error",
     "traceback": [
      "\u001b[0;31m---------------------------------------------------------------------------\u001b[0m",
      "\u001b[0;31mIndexError\u001b[0m                                Traceback (most recent call last)",
      "\u001b[0;32m<ipython-input-37-854804f45a96>\u001b[0m in \u001b[0;36m<module>\u001b[0;34m()\u001b[0m\n\u001b[0;32m----> 1\u001b[0;31m \u001b[0monehot_initialization\u001b[0m\u001b[0;34m(\u001b[0m\u001b[0mX_\u001b[0m\u001b[0;34m)\u001b[0m\u001b[0;34m\u001b[0m\u001b[0m\n\u001b[0m",
      "\u001b[0;32m<ipython-input-36-0408674b7b4f>\u001b[0m in \u001b[0;36monehot_initialization\u001b[0;34m(a)\u001b[0m\n\u001b[1;32m      7\u001b[0m     \u001b[0mncols\u001b[0m \u001b[0;34m=\u001b[0m \u001b[0;36m256\u001b[0m\u001b[0;34m\u001b[0m\u001b[0m\n\u001b[1;32m      8\u001b[0m     \u001b[0mout\u001b[0m \u001b[0;34m=\u001b[0m \u001b[0mnp\u001b[0m\u001b[0;34m.\u001b[0m\u001b[0mzeros\u001b[0m\u001b[0;34m(\u001b[0m\u001b[0ma\u001b[0m\u001b[0;34m.\u001b[0m\u001b[0mshape\u001b[0m \u001b[0;34m+\u001b[0m \u001b[0;34m(\u001b[0m\u001b[0mncols\u001b[0m\u001b[0;34m,\u001b[0m\u001b[0;34m)\u001b[0m\u001b[0;34m,\u001b[0m \u001b[0mdtype\u001b[0m\u001b[0;34m=\u001b[0m\u001b[0mint\u001b[0m\u001b[0;34m)\u001b[0m\u001b[0;34m\u001b[0m\u001b[0m\n\u001b[0;32m----> 9\u001b[0;31m     \u001b[0mout\u001b[0m\u001b[0;34m[\u001b[0m\u001b[0mall_idx\u001b[0m\u001b[0;34m(\u001b[0m\u001b[0ma\u001b[0m\u001b[0;34m,\u001b[0m \u001b[0maxis\u001b[0m\u001b[0;34m=\u001b[0m\u001b[0;36m2\u001b[0m\u001b[0;34m)\u001b[0m\u001b[0;34m]\u001b[0m \u001b[0;34m=\u001b[0m \u001b[0;36m1\u001b[0m\u001b[0;34m\u001b[0m\u001b[0m\n\u001b[0m\u001b[1;32m     10\u001b[0m     \u001b[0;32mreturn\u001b[0m \u001b[0mout\u001b[0m\u001b[0;34m\u001b[0m\u001b[0m\n",
      "\u001b[0;31mIndexError\u001b[0m: arrays used as indices must be of integer (or boolean) type"
     ]
    }
   ],
   "source": [
    "onehot_initialization(X_)"
   ]
  },
  {
   "cell_type": "code",
   "execution_count": 31,
   "metadata": {},
   "outputs": [
    {
     "ename": "NameError",
     "evalue": "name 'net' is not defined",
     "output_type": "error",
     "traceback": [
      "\u001b[0;31m---------------------------------------------------------------------------\u001b[0m",
      "\u001b[0;31mNameError\u001b[0m                                 Traceback (most recent call last)",
      "\u001b[0;32m<ipython-input-31-31487a617dc6>\u001b[0m in \u001b[0;36m<module>\u001b[0;34m()\u001b[0m\n\u001b[1;32m      2\u001b[0m \u001b[0mX_\u001b[0m \u001b[0;34m=\u001b[0m \u001b[0mX\u001b[0m\u001b[0;34m[\u001b[0m\u001b[0;34m:\u001b[0m\u001b[0;36m2\u001b[0m\u001b[0;34m]\u001b[0m\u001b[0;34m\u001b[0m\u001b[0m\n\u001b[1;32m      3\u001b[0m \u001b[0mY_\u001b[0m \u001b[0;34m=\u001b[0m \u001b[0mnp\u001b[0m\u001b[0;34m.\u001b[0m\u001b[0mconcatenate\u001b[0m\u001b[0;34m(\u001b[0m\u001b[0;34m[\u001b[0m\u001b[0mX\u001b[0m\u001b[0;34m[\u001b[0m\u001b[0;34m:\u001b[0m\u001b[0;36m2\u001b[0m\u001b[0;34m,\u001b[0m \u001b[0;36m1\u001b[0m\u001b[0;34m:\u001b[0m\u001b[0;34m]\u001b[0m\u001b[0;34m,\u001b[0m \u001b[0mX\u001b[0m\u001b[0;34m[\u001b[0m\u001b[0;34m:\u001b[0m\u001b[0;36m2\u001b[0m\u001b[0;34m,\u001b[0m \u001b[0;34m-\u001b[0m\u001b[0;36m1\u001b[0m\u001b[0;34m]\u001b[0m\u001b[0;34m.\u001b[0m\u001b[0mreshape\u001b[0m\u001b[0;34m(\u001b[0m\u001b[0mX_\u001b[0m\u001b[0;34m.\u001b[0m\u001b[0mshape\u001b[0m\u001b[0;34m[\u001b[0m\u001b[0;36m0\u001b[0m\u001b[0;34m]\u001b[0m\u001b[0;34m,\u001b[0m \u001b[0;36m1\u001b[0m\u001b[0;34m)\u001b[0m\u001b[0;34m]\u001b[0m\u001b[0;34m,\u001b[0m \u001b[0maxis\u001b[0m \u001b[0;34m=\u001b[0m \u001b[0;34m-\u001b[0m\u001b[0;36m1\u001b[0m\u001b[0;34m)\u001b[0m\u001b[0;34m\u001b[0m\u001b[0m\n\u001b[0;32m----> 4\u001b[0;31m \u001b[0mnet\u001b[0m\u001b[0;34m.\u001b[0m\u001b[0mfit\u001b[0m\u001b[0;34m(\u001b[0m\u001b[0mx\u001b[0m \u001b[0;34m=\u001b[0m \u001b[0mX_\u001b[0m\u001b[0;34m,\u001b[0m \u001b[0my\u001b[0m \u001b[0;34m=\u001b[0m \u001b[0mY_\u001b[0m\u001b[0;34m,\u001b[0m \u001b[0mepochs\u001b[0m \u001b[0;34m=\u001b[0m \u001b[0;36m1\u001b[0m\u001b[0;34m,\u001b[0m \u001b[0mbatch_size\u001b[0m \u001b[0;34m=\u001b[0m \u001b[0;36m2\u001b[0m\u001b[0;34m)\u001b[0m\u001b[0;34m\u001b[0m\u001b[0m\n\u001b[0m",
      "\u001b[0;31mNameError\u001b[0m: name 'net' is not defined"
     ]
    }
   ],
   "source": [
    "batch_size = 2\n",
    "X_ = X[:2]\n",
    "Y_ = np.concatenate([X[:2, 1:], X[:2, -1].reshape(X_.shape[0], 1)], axis = -1)\n",
    "\n",
    "net.fit(x = X_, y = Y_, epochs = 1, batch_size = 2)"
   ]
  }
 ],
 "metadata": {
  "kernelspec": {
   "display_name": "Python [conda env:jazz_music]",
   "language": "python",
   "name": "conda-env-jazz_music-py"
  },
  "language_info": {
   "codemirror_mode": {
    "name": "ipython",
    "version": 2
   },
   "file_extension": ".py",
   "mimetype": "text/x-python",
   "name": "python",
   "nbconvert_exporter": "python",
   "pygments_lexer": "ipython2",
   "version": "2.7.14"
  }
 },
 "nbformat": 4,
 "nbformat_minor": 2
}
